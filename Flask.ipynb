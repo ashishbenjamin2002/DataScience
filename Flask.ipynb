{
 "cells": [
  {
   "cell_type": "code",
   "execution_count": null,
   "id": "4c60081c",
   "metadata": {},
   "outputs": [
    {
     "name": "stdout",
     "output_type": "stream",
     "text": [
      " * Serving Flask app \"__main__\" (lazy loading)\n",
      " * Environment: production\n",
      "\u001b[31m   WARNING: This is a development server. Do not use it in a production deployment.\u001b[0m\n",
      "\u001b[2m   Use a production WSGI server instead.\u001b[0m\n",
      " * Debug mode: off\n"
     ]
    },
    {
     "name": "stderr",
     "output_type": "stream",
     "text": [
      " * Running on all addresses.\n",
      "   WARNING: This is a development server. Do not use it in a production deployment.\n",
      " * Running on http://192.168.138.219:106/ (Press CTRL+C to quit)\n",
      "192.168.138.219 - - [02/May/2024 11:21:34] \"GET / HTTP/1.1\" 200 -\n",
      "192.168.138.219 - - [02/May/2024 11:21:39] \"GET /6/7/ HTTP/1.1\" 200 -\n"
     ]
    }
   ],
   "source": [
    "import pickle\n",
    "from flask import Flask,jsonify,request\n",
    "\n",
    "app = Flask(__name__)\n",
    "\n",
    "@app.route('/')\n",
    "def hello():\n",
    "    return \"Hello world\"\n",
    "\n",
    "@app.route('/<string:name>/')\n",
    "def helloname(name):\n",
    "    return \"hello \"+name\n",
    "\n",
    "@app.route('/<int:x1>/<int:x2>/')\n",
    "def test(x1,x2):\n",
    "    f=open('pickle_model','rb')\n",
    "    saved_model= pickle.load(f)\n",
    "    \n",
    "    prediction= saved_model.predict([[x1,x2]])\n",
    "    return 'Output:'+str(prediction[0])\n",
    "    \n",
    "    \n",
    "\n",
    "app.run(host='0.0.0.0', port=106)"
   ]
  },
  {
   "cell_type": "code",
   "execution_count": 14,
   "id": "0996be04",
   "metadata": {},
   "outputs": [
    {
     "data": {
      "text/plain": [
       "'Output:1.0'"
      ]
     },
     "execution_count": 14,
     "metadata": {},
     "output_type": "execute_result"
    }
   ],
   "source": [
    "import pickle\n",
    "def test(x1,x2):\n",
    "    f=open('pickle_model','rb')\n",
    "    saved_model= pickle.load(f)\n",
    "    \n",
    "    prediction= saved_model.predict([[x1,x2]])\n",
    "    return 'Output:'+str(prediction[0])\n",
    "    \n",
    "test(2,3)"
   ]
  },
  {
   "cell_type": "code",
   "execution_count": null,
   "id": "44da48e7",
   "metadata": {},
   "outputs": [],
   "source": []
  }
 ],
 "metadata": {
  "kernelspec": {
   "display_name": "Python 3 (ipykernel)",
   "language": "python",
   "name": "python3"
  },
  "language_info": {
   "codemirror_mode": {
    "name": "ipython",
    "version": 3
   },
   "file_extension": ".py",
   "mimetype": "text/x-python",
   "name": "python",
   "nbconvert_exporter": "python",
   "pygments_lexer": "ipython3",
   "version": "3.9.12"
  }
 },
 "nbformat": 4,
 "nbformat_minor": 5
}
